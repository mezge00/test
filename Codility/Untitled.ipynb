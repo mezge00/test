{
 "cells": [
  {
   "cell_type": "code",
   "execution_count": 4,
   "id": "ce21dcec",
   "metadata": {},
   "outputs": [
    {
     "name": "stdout",
     "output_type": "stream",
     "text": [
      "    doi publication_date\n",
      "0  None             None\n",
      "1  None             None\n",
      "2  None             None\n",
      "3  None             None\n",
      "4  None             None\n",
      "5  None             None\n",
      "6  None             None\n",
      "  title\n",
      "0  None\n",
      "1  None\n",
      "2  None\n",
      "3  None\n",
      "4  None\n",
      "5  None\n",
      "6  None\n",
      "  abstract\n",
      "0     None\n",
      "1     None\n",
      "2     None\n",
      "3     None\n",
      "4     None\n",
      "5     None\n",
      "6     None\n"
     ]
    }
   ],
   "source": [
    "import xmltodict\n",
    "import pandas as pd\n",
    "from datetime import datetime\n",
    "\n",
    "def structure_data():\n",
    "    xml_file_path = 'studies.xml'\n",
    "    with open(xml_file_path, 'r') as f:\n",
    "        data = f.read()\n",
    "\n",
    "    # Parse XML to dictionary\n",
    "    xml_dict = xmltodict.parse(data)\n",
    "\n",
    "    # Extract data and create dataframe\n",
    "    studies = xml_dict.get('bibdataset', {}).get('item', [])\n",
    "    data_list = []\n",
    "\n",
    "    for study in studies:\n",
    "        doi = study.get('ce:doi')\n",
    "        pub_date_str = study.get('ait:process-info', {}).get('ait:date-sort', {}).get('@year-month-day')\n",
    "        title = study.get('bibrecord', {}).get('item-info', {}).get('titletext')\n",
    "        abstract = study.get('bibrecord', {}).get('item-info', {}).get('ce:para')\n",
    "\n",
    "        # Convert publication date to datetime object\n",
    "        pub_date = datetime.strptime(pub_date_str, '%Y-%m-%d').date() if pub_date_str else None\n",
    "\n",
    "        data_list.append({\n",
    "            'doi': doi,\n",
    "            'publication_date': pub_date,\n",
    "            'title': title,\n",
    "            'abstract': abstract\n",
    "        })\n",
    "\n",
    "    # Create dataframe\n",
    "    df = pd.DataFrame(data_list)\n",
    "\n",
    "    return df\n",
    "\n",
    "# Example usage\n",
    "output = structure_data()\n",
    "print(output[['doi', 'publication_date']])\n",
    "print(output[['title']])\n",
    "print(output[['abstract']])\n"
   ]
  },
  {
   "cell_type": "code",
   "execution_count": null,
   "id": "5784e9f7",
   "metadata": {},
   "outputs": [],
   "source": []
  }
 ],
 "metadata": {
  "kernelspec": {
   "display_name": "Python 3 (ipykernel)",
   "language": "python",
   "name": "python3"
  },
  "language_info": {
   "codemirror_mode": {
    "name": "ipython",
    "version": 3
   },
   "file_extension": ".py",
   "mimetype": "text/x-python",
   "name": "python",
   "nbconvert_exporter": "python",
   "pygments_lexer": "ipython3",
   "version": "3.9.13"
  }
 },
 "nbformat": 4,
 "nbformat_minor": 5
}
