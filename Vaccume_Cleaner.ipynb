{
 "cells": [
  {
   "cell_type": "code",
   "execution_count": 2,
   "id": "f4fcbc08",
   "metadata": {},
   "outputs": [],
   "source": [
    "location={'a','b','c','d','e','f',\n",
    "         'g','h','i','j','k','l',\n",
    "         'm','n','o','p'}"
   ]
  },
  {
   "cell_type": "raw",
   "id": "72aff610",
   "metadata": {},
   "source": [
    "A function/method to determine what action to take. Decision should be Move (Which direction), suck dirt, or Go back Home.\n",
    "A function/method to determine which direction to go\n",
    "A function/method to identify the route and navigate to home from the current location.\n",
    "A function/method to test if the desired goal is achieved or not.\n"
   ]
  },
  {
   "cell_type": "code",
   "execution_count": 5,
   "id": "d54033e6",
   "metadata": {},
   "outputs": [],
   "source": [
    "def action(command):\n",
    "    if command=='suck dirt':\n",
    "        print('I am sucking teh dirt')\n",
    "    else:\n",
    "        print('I am going back to my home')\n",
    "    "
   ]
  },
  {
   "cell_type": "code",
   "execution_count": 13,
   "id": "87b1a68d",
   "metadata": {},
   "outputs": [],
   "source": [
    "def determine_way(direction):\n",
    "    if direction== 'left'or direction=='west':\n",
    "        print('I am headed to west or left! ')\n",
    "    elif direction=='north':\n",
    "        print('I am headed to north')\n",
    "    elif direction== 'right' or direction=='east':\n",
    "          print('I am headed to east or right! ')\n",
    "    else:\n",
    "        print('I am headed to south')"
   ]
  },
  {
   "cell_type": "code",
   "execution_count": 23,
   "id": "e63c834f",
   "metadata": {},
   "outputs": [],
   "source": [
    "def route_navigate(position):\n",
    "    if position!='a':# assume position 'a' the starting and home position\n",
    "        print('Navgating all positions and going back to the starting position or home')\n",
    "        # there is no way of finding the best route it should have to go to previous place by stepping back each step.\n",
    "    else:\n",
    "        print('I am at home!')"
   ]
  },
  {
   "cell_type": "code",
   "execution_count": 24,
   "id": "332401f2",
   "metadata": {},
   "outputs": [],
   "source": [
    "def test():\n",
    "    route_navigate('d')\n",
    "    \n",
    "    "
   ]
  },
  {
   "cell_type": "code",
   "execution_count": 25,
   "id": "01eac9f4",
   "metadata": {},
   "outputs": [
    {
     "name": "stdout",
     "output_type": "stream",
     "text": [
      "Navgating all positions and going back to the starting position or home\n"
     ]
    }
   ],
   "source": [
    "test()"
   ]
  }
 ],
 "metadata": {
  "kernelspec": {
   "display_name": "Python 3 (ipykernel)",
   "language": "python",
   "name": "python3"
  },
  "language_info": {
   "codemirror_mode": {
    "name": "ipython",
    "version": 3
   },
   "file_extension": ".py",
   "mimetype": "text/x-python",
   "name": "python",
   "nbconvert_exporter": "python",
   "pygments_lexer": "ipython3",
   "version": "3.9.13"
  }
 },
 "nbformat": 4,
 "nbformat_minor": 5
}
